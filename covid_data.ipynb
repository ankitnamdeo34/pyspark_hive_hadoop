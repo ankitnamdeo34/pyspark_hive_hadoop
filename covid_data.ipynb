{
 "cells": [
  {
   "cell_type": "markdown",
   "metadata": {},
   "source": [
    "## Importing required modules"
   ]
  },
  {
   "cell_type": "code",
   "execution_count": 1,
   "metadata": {},
   "outputs": [],
   "source": [
    "import pandas as pd\n",
    "import numpy as np\n",
    "import matplotlib.pyplot as plt\n",
    "import seaborn as sns\n",
    "import scipy.cluster.hierarchy as sch\n",
    "from sklearn.cluster import KMeans\n",
    "from sklearn.preprocessing import StandardScaler\n",
    "from sklearn.decomposition import PCA\n",
    "from tqdm import tqdm\n",
    "import datetime as dt\n",
    "from sklearn.cluster import AgglomerativeClustering"
   ]
  },
  {
   "cell_type": "markdown",
   "metadata": {},
   "source": [
    "## Reading input files"
   ]
  },
  {
   "cell_type": "code",
   "execution_count": 2,
   "metadata": {},
   "outputs": [],
   "source": [
    "train = pd.read_csv(\"train.csv\", keep_default_na=False)"
   ]
  },
  {
   "cell_type": "code",
   "execution_count": 3,
   "metadata": {},
   "outputs": [],
   "source": [
    "test = pd.read_csv(\"test.csv\", keep_default_na=False)"
   ]
  },
  {
   "cell_type": "code",
   "execution_count": 4,
   "metadata": {},
   "outputs": [],
   "source": [
    "submission = pd.read_csv(\"submission.csv\", keep_default_na=False)"
   ]
  },
  {
   "cell_type": "markdown",
   "metadata": {},
   "source": [
    "## Analysis of test, train and submission data"
   ]
  },
  {
   "cell_type": "code",
   "execution_count": 5,
   "metadata": {},
   "outputs": [
    {
     "name": "stdout",
     "output_type": "stream",
     "text": [
      "((20580, 6), (12642, 4), (12642, 3))\n"
     ]
    }
   ],
   "source": [
    "print(\n",
    "    train.shape, test.shape, submission.shape\n",
    ")"
   ]
  },
  {
   "cell_type": "code",
   "execution_count": 6,
   "metadata": {},
   "outputs": [
    {
     "name": "stdout",
     "output_type": "stream",
     "text": [
      "Id                  int64\n",
      "Province_State     object\n",
      "Country_Region     object\n",
      "Date               object\n",
      "ConfirmedCases    float64\n",
      "Fatalities        float64\n",
      "dtype: object\n",
      "ForecastId         int64\n",
      "Province_State    object\n",
      "Country_Region    object\n",
      "Date              object\n",
      "dtype: object\n",
      "ForecastId        int64\n",
      "ConfirmedCases    int64\n",
      "Fatalities        int64\n",
      "dtype: object\n"
     ]
    }
   ],
   "source": [
    "print(train.dtypes)\n",
    "print(test.dtypes)\n",
    "print(submission.dtypes)"
   ]
  },
  {
   "cell_type": "code",
   "execution_count": 7,
   "metadata": {},
   "outputs": [
    {
     "data": {
      "text/html": [
       "<div>\n",
       "<style scoped>\n",
       "    .dataframe tbody tr th:only-of-type {\n",
       "        vertical-align: middle;\n",
       "    }\n",
       "\n",
       "    .dataframe tbody tr th {\n",
       "        vertical-align: top;\n",
       "    }\n",
       "\n",
       "    .dataframe thead th {\n",
       "        text-align: right;\n",
       "    }\n",
       "</style>\n",
       "<table border=\"1\" class=\"dataframe\">\n",
       "  <thead>\n",
       "    <tr style=\"text-align: right;\">\n",
       "      <th></th>\n",
       "      <th>Id</th>\n",
       "      <th>Province_State</th>\n",
       "      <th>Country_Region</th>\n",
       "      <th>Date</th>\n",
       "      <th>ConfirmedCases</th>\n",
       "      <th>Fatalities</th>\n",
       "    </tr>\n",
       "  </thead>\n",
       "  <tbody>\n",
       "    <tr>\n",
       "      <th>0</th>\n",
       "      <td>1</td>\n",
       "      <td></td>\n",
       "      <td>Afghanistan</td>\n",
       "      <td>2020-01-22</td>\n",
       "      <td>0.0</td>\n",
       "      <td>0.0</td>\n",
       "    </tr>\n",
       "    <tr>\n",
       "      <th>1</th>\n",
       "      <td>2</td>\n",
       "      <td></td>\n",
       "      <td>Afghanistan</td>\n",
       "      <td>2020-01-23</td>\n",
       "      <td>0.0</td>\n",
       "      <td>0.0</td>\n",
       "    </tr>\n",
       "    <tr>\n",
       "      <th>2</th>\n",
       "      <td>3</td>\n",
       "      <td></td>\n",
       "      <td>Afghanistan</td>\n",
       "      <td>2020-01-24</td>\n",
       "      <td>0.0</td>\n",
       "      <td>0.0</td>\n",
       "    </tr>\n",
       "    <tr>\n",
       "      <th>3</th>\n",
       "      <td>4</td>\n",
       "      <td></td>\n",
       "      <td>Afghanistan</td>\n",
       "      <td>2020-01-25</td>\n",
       "      <td>0.0</td>\n",
       "      <td>0.0</td>\n",
       "    </tr>\n",
       "    <tr>\n",
       "      <th>4</th>\n",
       "      <td>5</td>\n",
       "      <td></td>\n",
       "      <td>Afghanistan</td>\n",
       "      <td>2020-01-26</td>\n",
       "      <td>0.0</td>\n",
       "      <td>0.0</td>\n",
       "    </tr>\n",
       "  </tbody>\n",
       "</table>\n",
       "</div>"
      ],
      "text/plain": [
       "   Id Province_State Country_Region        Date  ConfirmedCases  Fatalities\n",
       "0   1                   Afghanistan  2020-01-22             0.0         0.0\n",
       "1   2                   Afghanistan  2020-01-23             0.0         0.0\n",
       "2   3                   Afghanistan  2020-01-24             0.0         0.0\n",
       "3   4                   Afghanistan  2020-01-25             0.0         0.0\n",
       "4   5                   Afghanistan  2020-01-26             0.0         0.0"
      ]
     },
     "execution_count": 7,
     "metadata": {},
     "output_type": "execute_result"
    }
   ],
   "source": [
    "train.head(5)"
   ]
  },
  {
   "cell_type": "code",
   "execution_count": 8,
   "metadata": {},
   "outputs": [
    {
     "data": {
      "text/html": [
       "<div>\n",
       "<style scoped>\n",
       "    .dataframe tbody tr th:only-of-type {\n",
       "        vertical-align: middle;\n",
       "    }\n",
       "\n",
       "    .dataframe tbody tr th {\n",
       "        vertical-align: top;\n",
       "    }\n",
       "\n",
       "    .dataframe thead th {\n",
       "        text-align: right;\n",
       "    }\n",
       "</style>\n",
       "<table border=\"1\" class=\"dataframe\">\n",
       "  <thead>\n",
       "    <tr style=\"text-align: right;\">\n",
       "      <th></th>\n",
       "      <th>ForecastId</th>\n",
       "      <th>Province_State</th>\n",
       "      <th>Country_Region</th>\n",
       "      <th>Date</th>\n",
       "    </tr>\n",
       "  </thead>\n",
       "  <tbody>\n",
       "    <tr>\n",
       "      <th>0</th>\n",
       "      <td>1</td>\n",
       "      <td></td>\n",
       "      <td>Afghanistan</td>\n",
       "      <td>2020-03-19</td>\n",
       "    </tr>\n",
       "    <tr>\n",
       "      <th>1</th>\n",
       "      <td>2</td>\n",
       "      <td></td>\n",
       "      <td>Afghanistan</td>\n",
       "      <td>2020-03-20</td>\n",
       "    </tr>\n",
       "    <tr>\n",
       "      <th>2</th>\n",
       "      <td>3</td>\n",
       "      <td></td>\n",
       "      <td>Afghanistan</td>\n",
       "      <td>2020-03-21</td>\n",
       "    </tr>\n",
       "    <tr>\n",
       "      <th>3</th>\n",
       "      <td>4</td>\n",
       "      <td></td>\n",
       "      <td>Afghanistan</td>\n",
       "      <td>2020-03-22</td>\n",
       "    </tr>\n",
       "    <tr>\n",
       "      <th>4</th>\n",
       "      <td>5</td>\n",
       "      <td></td>\n",
       "      <td>Afghanistan</td>\n",
       "      <td>2020-03-23</td>\n",
       "    </tr>\n",
       "  </tbody>\n",
       "</table>\n",
       "</div>"
      ],
      "text/plain": [
       "   ForecastId Province_State Country_Region        Date\n",
       "0           1                   Afghanistan  2020-03-19\n",
       "1           2                   Afghanistan  2020-03-20\n",
       "2           3                   Afghanistan  2020-03-21\n",
       "3           4                   Afghanistan  2020-03-22\n",
       "4           5                   Afghanistan  2020-03-23"
      ]
     },
     "execution_count": 8,
     "metadata": {},
     "output_type": "execute_result"
    }
   ],
   "source": [
    "test.head(5)"
   ]
  },
  {
   "cell_type": "code",
   "execution_count": 9,
   "metadata": {},
   "outputs": [
    {
     "data": {
      "text/html": [
       "<div>\n",
       "<style scoped>\n",
       "    .dataframe tbody tr th:only-of-type {\n",
       "        vertical-align: middle;\n",
       "    }\n",
       "\n",
       "    .dataframe tbody tr th {\n",
       "        vertical-align: top;\n",
       "    }\n",
       "\n",
       "    .dataframe thead th {\n",
       "        text-align: right;\n",
       "    }\n",
       "</style>\n",
       "<table border=\"1\" class=\"dataframe\">\n",
       "  <thead>\n",
       "    <tr style=\"text-align: right;\">\n",
       "      <th></th>\n",
       "      <th>ForecastId</th>\n",
       "      <th>ConfirmedCases</th>\n",
       "      <th>Fatalities</th>\n",
       "    </tr>\n",
       "  </thead>\n",
       "  <tbody>\n",
       "    <tr>\n",
       "      <th>0</th>\n",
       "      <td>1</td>\n",
       "      <td>1</td>\n",
       "      <td>1</td>\n",
       "    </tr>\n",
       "    <tr>\n",
       "      <th>1</th>\n",
       "      <td>2</td>\n",
       "      <td>1</td>\n",
       "      <td>1</td>\n",
       "    </tr>\n",
       "    <tr>\n",
       "      <th>2</th>\n",
       "      <td>3</td>\n",
       "      <td>1</td>\n",
       "      <td>1</td>\n",
       "    </tr>\n",
       "    <tr>\n",
       "      <th>3</th>\n",
       "      <td>4</td>\n",
       "      <td>1</td>\n",
       "      <td>1</td>\n",
       "    </tr>\n",
       "    <tr>\n",
       "      <th>4</th>\n",
       "      <td>5</td>\n",
       "      <td>1</td>\n",
       "      <td>1</td>\n",
       "    </tr>\n",
       "  </tbody>\n",
       "</table>\n",
       "</div>"
      ],
      "text/plain": [
       "   ForecastId  ConfirmedCases  Fatalities\n",
       "0           1               1           1\n",
       "1           2               1           1\n",
       "2           3               1           1\n",
       "3           4               1           1\n",
       "4           5               1           1"
      ]
     },
     "execution_count": 9,
     "metadata": {},
     "output_type": "execute_result"
    }
   ],
   "source": [
    "submission.head(5)"
   ]
  },
  {
   "cell_type": "markdown",
   "metadata": {},
   "source": [
    "## Analysis for each attribute of train data"
   ]
  },
  {
   "cell_type": "code",
   "execution_count": 10,
   "metadata": {},
   "outputs": [],
   "source": [
    "# test the missing type data\n",
    "def mis_test(attr):\n",
    "    return  len(attr.unique()), [x for x in attr.unique() if x == float(\"NaN\") or x == \"\"]"
   ]
  },
  {
   "cell_type": "code",
   "execution_count": 11,
   "metadata": {},
   "outputs": [
    {
     "data": {
      "text/plain": [
       "(20580, 6)"
      ]
     },
     "execution_count": 11,
     "metadata": {},
     "output_type": "execute_result"
    }
   ],
   "source": [
    "train.shape"
   ]
  },
  {
   "cell_type": "code",
   "execution_count": 12,
   "metadata": {},
   "outputs": [
    {
     "data": {
      "text/plain": [
       "(20580, [])"
      ]
     },
     "execution_count": 12,
     "metadata": {},
     "output_type": "execute_result"
    }
   ],
   "source": [
    "mis_test(train.Id)"
   ]
  },
  {
   "cell_type": "code",
   "execution_count": 13,
   "metadata": {},
   "outputs": [
    {
     "data": {
      "text/plain": [
       "(126, [''])"
      ]
     },
     "execution_count": 13,
     "metadata": {},
     "output_type": "execute_result"
    }
   ],
   "source": [
    "mis_test(train.Province_State)"
   ]
  },
  {
   "cell_type": "code",
   "execution_count": 14,
   "metadata": {},
   "outputs": [
    {
     "data": {
      "text/plain": [
       "(173, [])"
      ]
     },
     "execution_count": 14,
     "metadata": {},
     "output_type": "execute_result"
    }
   ],
   "source": [
    "mis_test(train.Country_Region)"
   ]
  },
  {
   "cell_type": "code",
   "execution_count": 15,
   "metadata": {},
   "outputs": [
    {
     "data": {
      "text/plain": [
       "(70, [])"
      ]
     },
     "execution_count": 15,
     "metadata": {},
     "output_type": "execute_result"
    }
   ],
   "source": [
    "mis_test(train.Date)"
   ]
  },
  {
   "cell_type": "code",
   "execution_count": 16,
   "metadata": {},
   "outputs": [
    {
     "data": {
      "text/plain": [
       "(1536, [])"
      ]
     },
     "execution_count": 16,
     "metadata": {},
     "output_type": "execute_result"
    }
   ],
   "source": [
    "mis_test(train.ConfirmedCases)"
   ]
  },
  {
   "cell_type": "code",
   "execution_count": 17,
   "metadata": {},
   "outputs": [
    {
     "data": {
      "text/plain": [
       "(328, [])"
      ]
     },
     "execution_count": 17,
     "metadata": {},
     "output_type": "execute_result"
    }
   ],
   "source": [
    "mis_test(train.Fatalities)"
   ]
  },
  {
   "cell_type": "code",
   "execution_count": 18,
   "metadata": {},
   "outputs": [
    {
     "data": {
      "text/html": [
       "<div>\n",
       "<style scoped>\n",
       "    .dataframe tbody tr th:only-of-type {\n",
       "        vertical-align: middle;\n",
       "    }\n",
       "\n",
       "    .dataframe tbody tr th {\n",
       "        vertical-align: top;\n",
       "    }\n",
       "\n",
       "    .dataframe thead th {\n",
       "        text-align: right;\n",
       "    }\n",
       "</style>\n",
       "<table border=\"1\" class=\"dataframe\">\n",
       "  <thead>\n",
       "    <tr style=\"text-align: right;\">\n",
       "      <th></th>\n",
       "      <th>Id</th>\n",
       "      <th>ConfirmedCases</th>\n",
       "      <th>Fatalities</th>\n",
       "    </tr>\n",
       "  </thead>\n",
       "  <tbody>\n",
       "    <tr>\n",
       "      <th>count</th>\n",
       "      <td>20580.000000</td>\n",
       "      <td>20580.000000</td>\n",
       "      <td>20580.000000</td>\n",
       "    </tr>\n",
       "    <tr>\n",
       "      <th>mean</th>\n",
       "      <td>14685.500000</td>\n",
       "      <td>514.939116</td>\n",
       "      <td>21.080952</td>\n",
       "    </tr>\n",
       "    <tr>\n",
       "      <th>std</th>\n",
       "      <td>8487.230117</td>\n",
       "      <td>4541.261768</td>\n",
       "      <td>287.758197</td>\n",
       "    </tr>\n",
       "    <tr>\n",
       "      <th>min</th>\n",
       "      <td>1.000000</td>\n",
       "      <td>0.000000</td>\n",
       "      <td>0.000000</td>\n",
       "    </tr>\n",
       "    <tr>\n",
       "      <th>25%</th>\n",
       "      <td>7335.750000</td>\n",
       "      <td>0.000000</td>\n",
       "      <td>0.000000</td>\n",
       "    </tr>\n",
       "    <tr>\n",
       "      <th>50%</th>\n",
       "      <td>14685.500000</td>\n",
       "      <td>0.000000</td>\n",
       "      <td>0.000000</td>\n",
       "    </tr>\n",
       "    <tr>\n",
       "      <th>75%</th>\n",
       "      <td>22035.250000</td>\n",
       "      <td>35.000000</td>\n",
       "      <td>0.000000</td>\n",
       "    </tr>\n",
       "    <tr>\n",
       "      <th>max</th>\n",
       "      <td>29370.000000</td>\n",
       "      <td>105792.000000</td>\n",
       "      <td>12428.000000</td>\n",
       "    </tr>\n",
       "  </tbody>\n",
       "</table>\n",
       "</div>"
      ],
      "text/plain": [
       "                 Id  ConfirmedCases    Fatalities\n",
       "count  20580.000000    20580.000000  20580.000000\n",
       "mean   14685.500000      514.939116     21.080952\n",
       "std     8487.230117     4541.261768    287.758197\n",
       "min        1.000000        0.000000      0.000000\n",
       "25%     7335.750000        0.000000      0.000000\n",
       "50%    14685.500000        0.000000      0.000000\n",
       "75%    22035.250000       35.000000      0.000000\n",
       "max    29370.000000   105792.000000  12428.000000"
      ]
     },
     "execution_count": 18,
     "metadata": {},
     "output_type": "execute_result"
    }
   ],
   "source": [
    "train.describe()"
   ]
  },
  {
   "cell_type": "markdown",
   "metadata": {},
   "source": [
    "## Test for Province_State vs Country_Region"
   ]
  },
  {
   "cell_type": "code",
   "execution_count": 19,
   "metadata": {},
   "outputs": [
    {
     "name": "stdout",
     "output_type": "stream",
     "text": [
      "('Australia', [], [])\n",
      "('Canada', [], [])\n",
      "('China', [], [])\n",
      "('Denmark', [''], array(['Faroe Islands', 'Greenland', ''], dtype=object))\n",
      "('France', [''], array(['French Guiana', 'French Polynesia', 'Guadeloupe', 'Martinique',\n",
      "       'Mayotte', 'New Caledonia', 'Reunion', 'Saint Barthelemy',\n",
      "       'St Martin', ''], dtype=object))\n",
      "('Netherlands', [''], array(['Aruba', 'Curacao', 'Sint Maarten', ''], dtype=object))\n",
      "('US', [], [])\n",
      "('United Kingdom', [''], array(['Bermuda', 'Cayman Islands', 'Channel Islands', 'Gibraltar',\n",
      "       'Isle of Man', 'Montserrat', ''], dtype=object))\n",
      "['Denmark', 'France', 'Netherlands', 'United Kingdom']\n"
     ]
    }
   ],
   "source": [
    "# check for Country_Region having more than one Province_State have any missing entry or not\n",
    "country_list = []\n",
    "df = train.groupby(train.Country_Region).nunique()\n",
    "for i in df[df.Province_State > 1].index:\n",
    "    z = [x for x in train[train.Country_Region == i].Province_State.unique() if x == \"\"]\n",
    "    k = []\n",
    "    if z:\n",
    "        k = train[train.Country_Region == i].Province_State.unique()\n",
    "        country_list.append(i)\n",
    "    print(i, z, k)\n",
    "print(country_list)"
   ]
  },
  {
   "cell_type": "code",
   "execution_count": 20,
   "metadata": {},
   "outputs": [
    {
     "data": {
      "text/html": [
       "<div>\n",
       "<style scoped>\n",
       "    .dataframe tbody tr th:only-of-type {\n",
       "        vertical-align: middle;\n",
       "    }\n",
       "\n",
       "    .dataframe tbody tr th {\n",
       "        vertical-align: top;\n",
       "    }\n",
       "\n",
       "    .dataframe thead th {\n",
       "        text-align: right;\n",
       "    }\n",
       "</style>\n",
       "<table border=\"1\" class=\"dataframe\">\n",
       "  <thead>\n",
       "    <tr style=\"text-align: right;\">\n",
       "      <th></th>\n",
       "      <th></th>\n",
       "      <th>Id</th>\n",
       "      <th>Date</th>\n",
       "      <th>ConfirmedCases</th>\n",
       "      <th>Fatalities</th>\n",
       "    </tr>\n",
       "    <tr>\n",
       "      <th>Country_Region</th>\n",
       "      <th>Province_State</th>\n",
       "      <th></th>\n",
       "      <th></th>\n",
       "      <th></th>\n",
       "      <th></th>\n",
       "    </tr>\n",
       "  </thead>\n",
       "  <tbody>\n",
       "    <tr>\n",
       "      <th rowspan=\"3\" valign=\"top\">Denmark</th>\n",
       "      <th></th>\n",
       "      <td>70</td>\n",
       "      <td>70</td>\n",
       "      <td>70</td>\n",
       "      <td>70</td>\n",
       "    </tr>\n",
       "    <tr>\n",
       "      <th>Faroe Islands</th>\n",
       "      <td>70</td>\n",
       "      <td>70</td>\n",
       "      <td>70</td>\n",
       "      <td>70</td>\n",
       "    </tr>\n",
       "    <tr>\n",
       "      <th>Greenland</th>\n",
       "      <td>70</td>\n",
       "      <td>70</td>\n",
       "      <td>70</td>\n",
       "      <td>70</td>\n",
       "    </tr>\n",
       "    <tr>\n",
       "      <th rowspan=\"10\" valign=\"top\">France</th>\n",
       "      <th></th>\n",
       "      <td>70</td>\n",
       "      <td>70</td>\n",
       "      <td>70</td>\n",
       "      <td>70</td>\n",
       "    </tr>\n",
       "    <tr>\n",
       "      <th>French Guiana</th>\n",
       "      <td>70</td>\n",
       "      <td>70</td>\n",
       "      <td>70</td>\n",
       "      <td>70</td>\n",
       "    </tr>\n",
       "    <tr>\n",
       "      <th>French Polynesia</th>\n",
       "      <td>70</td>\n",
       "      <td>70</td>\n",
       "      <td>70</td>\n",
       "      <td>70</td>\n",
       "    </tr>\n",
       "    <tr>\n",
       "      <th>Guadeloupe</th>\n",
       "      <td>70</td>\n",
       "      <td>70</td>\n",
       "      <td>70</td>\n",
       "      <td>70</td>\n",
       "    </tr>\n",
       "    <tr>\n",
       "      <th>Martinique</th>\n",
       "      <td>70</td>\n",
       "      <td>70</td>\n",
       "      <td>70</td>\n",
       "      <td>70</td>\n",
       "    </tr>\n",
       "    <tr>\n",
       "      <th>Mayotte</th>\n",
       "      <td>70</td>\n",
       "      <td>70</td>\n",
       "      <td>70</td>\n",
       "      <td>70</td>\n",
       "    </tr>\n",
       "    <tr>\n",
       "      <th>New Caledonia</th>\n",
       "      <td>70</td>\n",
       "      <td>70</td>\n",
       "      <td>70</td>\n",
       "      <td>70</td>\n",
       "    </tr>\n",
       "    <tr>\n",
       "      <th>Reunion</th>\n",
       "      <td>70</td>\n",
       "      <td>70</td>\n",
       "      <td>70</td>\n",
       "      <td>70</td>\n",
       "    </tr>\n",
       "    <tr>\n",
       "      <th>Saint Barthelemy</th>\n",
       "      <td>70</td>\n",
       "      <td>70</td>\n",
       "      <td>70</td>\n",
       "      <td>70</td>\n",
       "    </tr>\n",
       "    <tr>\n",
       "      <th>St Martin</th>\n",
       "      <td>70</td>\n",
       "      <td>70</td>\n",
       "      <td>70</td>\n",
       "      <td>70</td>\n",
       "    </tr>\n",
       "    <tr>\n",
       "      <th rowspan=\"4\" valign=\"top\">Netherlands</th>\n",
       "      <th></th>\n",
       "      <td>70</td>\n",
       "      <td>70</td>\n",
       "      <td>70</td>\n",
       "      <td>70</td>\n",
       "    </tr>\n",
       "    <tr>\n",
       "      <th>Aruba</th>\n",
       "      <td>70</td>\n",
       "      <td>70</td>\n",
       "      <td>70</td>\n",
       "      <td>70</td>\n",
       "    </tr>\n",
       "    <tr>\n",
       "      <th>Curacao</th>\n",
       "      <td>70</td>\n",
       "      <td>70</td>\n",
       "      <td>70</td>\n",
       "      <td>70</td>\n",
       "    </tr>\n",
       "    <tr>\n",
       "      <th>Sint Maarten</th>\n",
       "      <td>70</td>\n",
       "      <td>70</td>\n",
       "      <td>70</td>\n",
       "      <td>70</td>\n",
       "    </tr>\n",
       "    <tr>\n",
       "      <th rowspan=\"7\" valign=\"top\">United Kingdom</th>\n",
       "      <th></th>\n",
       "      <td>70</td>\n",
       "      <td>70</td>\n",
       "      <td>70</td>\n",
       "      <td>70</td>\n",
       "    </tr>\n",
       "    <tr>\n",
       "      <th>Bermuda</th>\n",
       "      <td>70</td>\n",
       "      <td>70</td>\n",
       "      <td>70</td>\n",
       "      <td>70</td>\n",
       "    </tr>\n",
       "    <tr>\n",
       "      <th>Cayman Islands</th>\n",
       "      <td>70</td>\n",
       "      <td>70</td>\n",
       "      <td>70</td>\n",
       "      <td>70</td>\n",
       "    </tr>\n",
       "    <tr>\n",
       "      <th>Channel Islands</th>\n",
       "      <td>70</td>\n",
       "      <td>70</td>\n",
       "      <td>70</td>\n",
       "      <td>70</td>\n",
       "    </tr>\n",
       "    <tr>\n",
       "      <th>Gibraltar</th>\n",
       "      <td>70</td>\n",
       "      <td>70</td>\n",
       "      <td>70</td>\n",
       "      <td>70</td>\n",
       "    </tr>\n",
       "    <tr>\n",
       "      <th>Isle of Man</th>\n",
       "      <td>70</td>\n",
       "      <td>70</td>\n",
       "      <td>70</td>\n",
       "      <td>70</td>\n",
       "    </tr>\n",
       "    <tr>\n",
       "      <th>Montserrat</th>\n",
       "      <td>70</td>\n",
       "      <td>70</td>\n",
       "      <td>70</td>\n",
       "      <td>70</td>\n",
       "    </tr>\n",
       "  </tbody>\n",
       "</table>\n",
       "</div>"
      ],
      "text/plain": [
       "                                 Id  Date  ConfirmedCases  Fatalities\n",
       "Country_Region Province_State                                        \n",
       "Denmark                          70    70              70          70\n",
       "               Faroe Islands     70    70              70          70\n",
       "               Greenland         70    70              70          70\n",
       "France                           70    70              70          70\n",
       "               French Guiana     70    70              70          70\n",
       "               French Polynesia  70    70              70          70\n",
       "               Guadeloupe        70    70              70          70\n",
       "               Martinique        70    70              70          70\n",
       "               Mayotte           70    70              70          70\n",
       "               New Caledonia     70    70              70          70\n",
       "               Reunion           70    70              70          70\n",
       "               Saint Barthelemy  70    70              70          70\n",
       "               St Martin         70    70              70          70\n",
       "Netherlands                      70    70              70          70\n",
       "               Aruba             70    70              70          70\n",
       "               Curacao           70    70              70          70\n",
       "               Sint Maarten      70    70              70          70\n",
       "United Kingdom                   70    70              70          70\n",
       "               Bermuda           70    70              70          70\n",
       "               Cayman Islands    70    70              70          70\n",
       "               Channel Islands   70    70              70          70\n",
       "               Gibraltar         70    70              70          70\n",
       "               Isle of Man       70    70              70          70\n",
       "               Montserrat        70    70              70          70"
      ]
     },
     "execution_count": 20,
     "metadata": {},
     "output_type": "execute_result"
    }
   ],
   "source": [
    "train[train.Country_Region.isin(country_list)].groupby(\n",
    "    [\"Country_Region\", \"Province_State\"]\n",
    ").count()"
   ]
  },
  {
   "cell_type": "markdown",
   "metadata": {},
   "source": [
    "## Impute missing value of Province_State with Country_Region as missing value represents rest or whole of the Country_Region"
   ]
  },
  {
   "cell_type": "code",
   "execution_count": 21,
   "metadata": {},
   "outputs": [],
   "source": [
    "def add_location(df):\n",
    "    df['Province_State'] = df.apply(\n",
    "        lambda row: row['Country_Region'] if row['Province_State'] == \"\" else row['Province_State'],\n",
    "        axis=1\n",
    "    )\n",
    "    df['Location'] = df['Country_Region'] + \"-\" + df['Province_State'] \n",
    "    return df\n",
    "\n",
    "train = add_location(train)\n",
    "test = add_location(test)"
   ]
  },
  {
   "cell_type": "code",
   "execution_count": 59,
   "metadata": {},
   "outputs": [
    {
     "data": {
      "text/html": [
       "<div>\n",
       "<style scoped>\n",
       "    .dataframe tbody tr th:only-of-type {\n",
       "        vertical-align: middle;\n",
       "    }\n",
       "\n",
       "    .dataframe tbody tr th {\n",
       "        vertical-align: top;\n",
       "    }\n",
       "\n",
       "    .dataframe thead th {\n",
       "        text-align: right;\n",
       "    }\n",
       "</style>\n",
       "<table border=\"1\" class=\"dataframe\">\n",
       "  <thead>\n",
       "    <tr style=\"text-align: right;\">\n",
       "      <th></th>\n",
       "      <th>Location</th>\n",
       "      <th>Country_Region</th>\n",
       "    </tr>\n",
       "    <tr>\n",
       "      <th>Location</th>\n",
       "      <th></th>\n",
       "      <th></th>\n",
       "    </tr>\n",
       "  </thead>\n",
       "  <tbody>\n",
       "  </tbody>\n",
       "</table>\n",
       "</div>"
      ],
      "text/plain": [
       "Empty DataFrame\n",
       "Columns: [Location, Country_Region]\n",
       "Index: []"
      ]
     },
     "execution_count": 59,
     "metadata": {},
     "output_type": "execute_result"
    }
   ],
   "source": [
    "df_1 = train_clean[['Province_State', 'Country_Region']].groupby(\"Province_State\").nunique()\n",
    "df_1[df_1.Country_Region > 1]"
   ]
  },
  {
   "cell_type": "markdown",
   "metadata": {},
   "source": [
    "## Check whether ConfirmedCases and Fatalities are cumulative or not\n",
    "- verify result with https://www.worldometers.info/coronavirus/country/india/"
   ]
  },
  {
   "cell_type": "code",
   "execution_count": 22,
   "metadata": {},
   "outputs": [
    {
     "data": {
      "text/html": [
       "<div>\n",
       "<style scoped>\n",
       "    .dataframe tbody tr th:only-of-type {\n",
       "        vertical-align: middle;\n",
       "    }\n",
       "\n",
       "    .dataframe tbody tr th {\n",
       "        vertical-align: top;\n",
       "    }\n",
       "\n",
       "    .dataframe thead th {\n",
       "        text-align: right;\n",
       "    }\n",
       "</style>\n",
       "<table border=\"1\" class=\"dataframe\">\n",
       "  <thead>\n",
       "    <tr style=\"text-align: right;\">\n",
       "      <th></th>\n",
       "      <th>Id</th>\n",
       "      <th>Province_State</th>\n",
       "      <th>Country_Region</th>\n",
       "      <th>Date</th>\n",
       "      <th>ConfirmedCases</th>\n",
       "      <th>Fatalities</th>\n",
       "      <th>Location</th>\n",
       "    </tr>\n",
       "  </thead>\n",
       "  <tbody>\n",
       "    <tr>\n",
       "      <th>9440</th>\n",
       "      <td>13461</td>\n",
       "      <td>India</td>\n",
       "      <td>India</td>\n",
       "      <td>2020-03-22</td>\n",
       "      <td>396.0</td>\n",
       "      <td>7.0</td>\n",
       "      <td>India-India</td>\n",
       "    </tr>\n",
       "    <tr>\n",
       "      <th>9441</th>\n",
       "      <td>13462</td>\n",
       "      <td>India</td>\n",
       "      <td>India</td>\n",
       "      <td>2020-03-23</td>\n",
       "      <td>499.0</td>\n",
       "      <td>10.0</td>\n",
       "      <td>India-India</td>\n",
       "    </tr>\n",
       "    <tr>\n",
       "      <th>9442</th>\n",
       "      <td>13463</td>\n",
       "      <td>India</td>\n",
       "      <td>India</td>\n",
       "      <td>2020-03-24</td>\n",
       "      <td>536.0</td>\n",
       "      <td>10.0</td>\n",
       "      <td>India-India</td>\n",
       "    </tr>\n",
       "    <tr>\n",
       "      <th>9443</th>\n",
       "      <td>13464</td>\n",
       "      <td>India</td>\n",
       "      <td>India</td>\n",
       "      <td>2020-03-25</td>\n",
       "      <td>657.0</td>\n",
       "      <td>12.0</td>\n",
       "      <td>India-India</td>\n",
       "    </tr>\n",
       "    <tr>\n",
       "      <th>9444</th>\n",
       "      <td>13465</td>\n",
       "      <td>India</td>\n",
       "      <td>India</td>\n",
       "      <td>2020-03-26</td>\n",
       "      <td>727.0</td>\n",
       "      <td>20.0</td>\n",
       "      <td>India-India</td>\n",
       "    </tr>\n",
       "    <tr>\n",
       "      <th>9445</th>\n",
       "      <td>13466</td>\n",
       "      <td>India</td>\n",
       "      <td>India</td>\n",
       "      <td>2020-03-27</td>\n",
       "      <td>887.0</td>\n",
       "      <td>20.0</td>\n",
       "      <td>India-India</td>\n",
       "    </tr>\n",
       "    <tr>\n",
       "      <th>9446</th>\n",
       "      <td>13467</td>\n",
       "      <td>India</td>\n",
       "      <td>India</td>\n",
       "      <td>2020-03-28</td>\n",
       "      <td>987.0</td>\n",
       "      <td>24.0</td>\n",
       "      <td>India-India</td>\n",
       "    </tr>\n",
       "    <tr>\n",
       "      <th>9447</th>\n",
       "      <td>13468</td>\n",
       "      <td>India</td>\n",
       "      <td>India</td>\n",
       "      <td>2020-03-29</td>\n",
       "      <td>1024.0</td>\n",
       "      <td>27.0</td>\n",
       "      <td>India-India</td>\n",
       "    </tr>\n",
       "    <tr>\n",
       "      <th>9448</th>\n",
       "      <td>13469</td>\n",
       "      <td>India</td>\n",
       "      <td>India</td>\n",
       "      <td>2020-03-30</td>\n",
       "      <td>1251.0</td>\n",
       "      <td>32.0</td>\n",
       "      <td>India-India</td>\n",
       "    </tr>\n",
       "    <tr>\n",
       "      <th>9449</th>\n",
       "      <td>13470</td>\n",
       "      <td>India</td>\n",
       "      <td>India</td>\n",
       "      <td>2020-03-31</td>\n",
       "      <td>1397.0</td>\n",
       "      <td>35.0</td>\n",
       "      <td>India-India</td>\n",
       "    </tr>\n",
       "  </tbody>\n",
       "</table>\n",
       "</div>"
      ],
      "text/plain": [
       "         Id Province_State Country_Region        Date  ConfirmedCases  \\\n",
       "9440  13461          India          India  2020-03-22           396.0   \n",
       "9441  13462          India          India  2020-03-23           499.0   \n",
       "9442  13463          India          India  2020-03-24           536.0   \n",
       "9443  13464          India          India  2020-03-25           657.0   \n",
       "9444  13465          India          India  2020-03-26           727.0   \n",
       "9445  13466          India          India  2020-03-27           887.0   \n",
       "9446  13467          India          India  2020-03-28           987.0   \n",
       "9447  13468          India          India  2020-03-29          1024.0   \n",
       "9448  13469          India          India  2020-03-30          1251.0   \n",
       "9449  13470          India          India  2020-03-31          1397.0   \n",
       "\n",
       "      Fatalities     Location  \n",
       "9440         7.0  India-India  \n",
       "9441        10.0  India-India  \n",
       "9442        10.0  India-India  \n",
       "9443        12.0  India-India  \n",
       "9444        20.0  India-India  \n",
       "9445        20.0  India-India  \n",
       "9446        24.0  India-India  \n",
       "9447        27.0  India-India  \n",
       "9448        32.0  India-India  \n",
       "9449        35.0  India-India  "
      ]
     },
     "execution_count": 22,
     "metadata": {},
     "output_type": "execute_result"
    }
   ],
   "source": [
    "# Its look like cumulative to India\n",
    "train[train.Country_Region == \"India\"].tail(10)"
   ]
  },
  {
   "cell_type": "code",
   "execution_count": 23,
   "metadata": {},
   "outputs": [
    {
     "data": {
      "text/plain": [
       "('2020-01-22', '2020-03-31', '2020-03-19', '2020-04-30')"
      ]
     },
     "execution_count": 23,
     "metadata": {},
     "output_type": "execute_result"
    }
   ],
   "source": [
    "# Get train and test start and end dates\n",
    "TRAIN_START = train.Date.min()\n",
    "TEST_START = test.Date.min()\n",
    "TRAIN_END = train.Date.max()\n",
    "TEST_END = test.Date.max()\n",
    "TRAIN_START, TRAIN_END, TEST_START, TEST_END"
   ]
  },
  {
   "cell_type": "code",
   "execution_count": 24,
   "metadata": {},
   "outputs": [
    {
     "name": "stdout",
     "output_type": "stream",
     "text": [
      "('%match in ConfirmedCases', 0.9931972789115646)\n",
      "('%match in Fatalities', 0.9863945578231292)\n"
     ]
    }
   ],
   "source": [
    "# IS data is cumulative and how much discripancy in cumulative data\n",
    "latest_loc = train[train['Date'] == TRAIN_END][['Location', 'ConfirmedCases', 'Fatalities']]\n",
    "max_loc = train.groupby(['Location'])[['ConfirmedCases', 'Fatalities']].max().reset_index()\n",
    "check = pd.merge(latest_loc, max_loc, on='Location')\n",
    "print(\"%match in ConfirmedCases\", np.mean(check.ConfirmedCases_x == check.ConfirmedCases_y))\n",
    "print(\"%match in Fatalities\", np.mean(check.Fatalities_x == check.Fatalities_y))"
   ]
  },
  {
   "cell_type": "code",
   "execution_count": 25,
   "metadata": {},
   "outputs": [
    {
     "data": {
      "text/html": [
       "<div>\n",
       "<style scoped>\n",
       "    .dataframe tbody tr th:only-of-type {\n",
       "        vertical-align: middle;\n",
       "    }\n",
       "\n",
       "    .dataframe tbody tr th {\n",
       "        vertical-align: top;\n",
       "    }\n",
       "\n",
       "    .dataframe thead th {\n",
       "        text-align: right;\n",
       "    }\n",
       "</style>\n",
       "<table border=\"1\" class=\"dataframe\">\n",
       "  <thead>\n",
       "    <tr style=\"text-align: right;\">\n",
       "      <th></th>\n",
       "      <th>Location</th>\n",
       "      <th>ConfirmedCases_x</th>\n",
       "      <th>Fatalities_x</th>\n",
       "      <th>ConfirmedCases_y</th>\n",
       "      <th>Fatalities_y</th>\n",
       "    </tr>\n",
       "  </thead>\n",
       "  <tbody>\n",
       "    <tr>\n",
       "      <th>133</th>\n",
       "      <td>Iceland-Iceland</td>\n",
       "      <td>1135.0</td>\n",
       "      <td>2.0</td>\n",
       "      <td>1135.0</td>\n",
       "      <td>5.0</td>\n",
       "    </tr>\n",
       "    <tr>\n",
       "      <th>144</th>\n",
       "      <td>Kazakhstan-Kazakhstan</td>\n",
       "      <td>343.0</td>\n",
       "      <td>2.0</td>\n",
       "      <td>343.0</td>\n",
       "      <td>3.0</td>\n",
       "    </tr>\n",
       "    <tr>\n",
       "      <th>205</th>\n",
       "      <td>Slovakia-Slovakia</td>\n",
       "      <td>363.0</td>\n",
       "      <td>0.0</td>\n",
       "      <td>363.0</td>\n",
       "      <td>1.0</td>\n",
       "    </tr>\n",
       "    <tr>\n",
       "      <th>236</th>\n",
       "      <td>US-Hawaii</td>\n",
       "      <td>204.0</td>\n",
       "      <td>0.0</td>\n",
       "      <td>204.0</td>\n",
       "      <td>1.0</td>\n",
       "    </tr>\n",
       "  </tbody>\n",
       "</table>\n",
       "</div>"
      ],
      "text/plain": [
       "                  Location  ConfirmedCases_x  Fatalities_x  ConfirmedCases_y  \\\n",
       "133        Iceland-Iceland            1135.0           2.0            1135.0   \n",
       "144  Kazakhstan-Kazakhstan             343.0           2.0             343.0   \n",
       "205      Slovakia-Slovakia             363.0           0.0             363.0   \n",
       "236              US-Hawaii             204.0           0.0             204.0   \n",
       "\n",
       "     Fatalities_y  \n",
       "133           5.0  \n",
       "144           3.0  \n",
       "205           1.0  \n",
       "236           1.0  "
      ]
     },
     "execution_count": 25,
     "metadata": {},
     "output_type": "execute_result"
    }
   ],
   "source": [
    "# Mismatch in Fatalities\n",
    "check[check.Fatalities_x != check.Fatalities_y]"
   ]
  },
  {
   "cell_type": "code",
   "execution_count": 26,
   "metadata": {},
   "outputs": [
    {
     "data": {
      "text/html": [
       "<div>\n",
       "<style scoped>\n",
       "    .dataframe tbody tr th:only-of-type {\n",
       "        vertical-align: middle;\n",
       "    }\n",
       "\n",
       "    .dataframe tbody tr th {\n",
       "        vertical-align: top;\n",
       "    }\n",
       "\n",
       "    .dataframe thead th {\n",
       "        text-align: right;\n",
       "    }\n",
       "</style>\n",
       "<table border=\"1\" class=\"dataframe\">\n",
       "  <thead>\n",
       "    <tr style=\"text-align: right;\">\n",
       "      <th></th>\n",
       "      <th>Location</th>\n",
       "      <th>ConfirmedCases_x</th>\n",
       "      <th>Fatalities_x</th>\n",
       "      <th>ConfirmedCases_y</th>\n",
       "      <th>Fatalities_y</th>\n",
       "    </tr>\n",
       "  </thead>\n",
       "  <tbody>\n",
       "    <tr>\n",
       "      <th>56</th>\n",
       "      <td>China-Guizhou</td>\n",
       "      <td>146.0</td>\n",
       "      <td>2.0</td>\n",
       "      <td>147.0</td>\n",
       "      <td>2.0</td>\n",
       "    </tr>\n",
       "    <tr>\n",
       "      <th>128</th>\n",
       "      <td>Guyana-Guyana</td>\n",
       "      <td>12.0</td>\n",
       "      <td>2.0</td>\n",
       "      <td>20.0</td>\n",
       "      <td>2.0</td>\n",
       "    </tr>\n",
       "  </tbody>\n",
       "</table>\n",
       "</div>"
      ],
      "text/plain": [
       "          Location  ConfirmedCases_x  Fatalities_x  ConfirmedCases_y  \\\n",
       "56   China-Guizhou             146.0           2.0             147.0   \n",
       "128  Guyana-Guyana              12.0           2.0              20.0   \n",
       "\n",
       "     Fatalities_y  \n",
       "56            2.0  \n",
       "128           2.0  "
      ]
     },
     "execution_count": 26,
     "metadata": {},
     "output_type": "execute_result"
    }
   ],
   "source": [
    "# Mismatch in ConfirmedCases\n",
    "check[check.ConfirmedCases_x != check.ConfirmedCases_y]"
   ]
  },
  {
   "cell_type": "markdown",
   "metadata": {},
   "source": [
    "## Data look's like to be cumulative by 98% match rate, force data to be cumulative"
   ]
  },
  {
   "cell_type": "code",
   "execution_count": 27,
   "metadata": {},
   "outputs": [],
   "source": [
    "# Force data to be cumulative and add other relative kpi's like date change, daywise change in confirmed and fatality cases\n",
    "def custom_grouping(df, column):\n",
    "    dfs = []\n",
    "    for loc, df in tqdm(df.groupby(column)):\n",
    "        df = df.sort_values(by='Date')\n",
    "        df['Fatalities'] = df['Fatalities'].cummax()\n",
    "        df['ConfirmedCases'] = df['ConfirmedCases'].cummax()\n",
    "        df['LogFatalities'] = np.log(df['Fatalities'] + 1)\n",
    "        df['LogConfirmed'] = np.log(df['ConfirmedCases'] + 1)\n",
    "        df['LogConfirmedNextDay'] = df['LogConfirmed'].shift(1)\n",
    "        df['ConfirmedCasesNextDay'] = df['ConfirmedCases'].shift(1)\n",
    "        df['DateNextDay'] = df['Date'].shift(1)\n",
    "        df['LogFatalitiesNextDay'] = df['LogFatalities'].shift(1)\n",
    "        df['FatalitiesNextDay'] = df['Fatalities'].shift(1)\n",
    "        dfs.append(df)\n",
    "    return pd.concat(dfs)\n",
    "\n",
    "def calc_delta(df):\n",
    "    for col in df.columns:\n",
    "        if \"NextDay\" in col:\n",
    "            df.loc[df[col].isnull(),col] = df[col.replace(\"NextDay\", \"\")]\n",
    "    df['LogConfirmedDelta'] = df['LogConfirmed'] - df['LogConfirmedNextDay']\n",
    "    df['ConfirmedCasesDelta'] = df['ConfirmedCases'] - df['ConfirmedCasesNextDay']\n",
    "    df['LogFatalitiesDelta'] =  df['LogFatalities'] - df['LogFatalitiesNextDay']\n",
    "    df['FatalitiesDelta'] = df['Fatalities'] - df['FatalitiesNextDay']\n",
    "    df['FatalitiesDelta'] = df['Fatalities'] - df['FatalitiesNextDay']\n",
    "    df['DateDelta'] = (pd.to_datetime(df['Date']) - pd.to_datetime(df['DateNextDay'])).dt.days\n",
    "    return df"
   ]
  },
  {
   "cell_type": "code",
   "execution_count": 28,
   "metadata": {},
   "outputs": [
    {
     "name": "stderr",
     "output_type": "stream",
     "text": [
      "100%|██████████| 294/294 [00:02<00:00, 129.00it/s]\n"
     ]
    }
   ],
   "source": [
    "train_new = custom_grouping(train, [\"Location\"])\n",
    "train_new = calc_delta(train_new)"
   ]
  },
  {
   "cell_type": "code",
   "execution_count": 29,
   "metadata": {},
   "outputs": [
    {
     "data": {
      "text/html": [
       "<div>\n",
       "<style scoped>\n",
       "    .dataframe tbody tr th:only-of-type {\n",
       "        vertical-align: middle;\n",
       "    }\n",
       "\n",
       "    .dataframe tbody tr th {\n",
       "        vertical-align: top;\n",
       "    }\n",
       "\n",
       "    .dataframe thead th {\n",
       "        text-align: right;\n",
       "    }\n",
       "</style>\n",
       "<table border=\"1\" class=\"dataframe\">\n",
       "  <thead>\n",
       "    <tr style=\"text-align: right;\">\n",
       "      <th></th>\n",
       "      <th></th>\n",
       "      <th>Id</th>\n",
       "    </tr>\n",
       "    <tr>\n",
       "      <th>Location</th>\n",
       "      <th>DateDelta</th>\n",
       "      <th></th>\n",
       "    </tr>\n",
       "  </thead>\n",
       "  <tbody>\n",
       "  </tbody>\n",
       "</table>\n",
       "</div>"
      ],
      "text/plain": [
       "Empty DataFrame\n",
       "Columns: [Id]\n",
       "Index: []"
      ]
     },
     "execution_count": 29,
     "metadata": {},
     "output_type": "execute_result"
    }
   ],
   "source": [
    "# check for any missing date\n",
    "df_test = train_new.groupby([\"Location\", \"DateDelta\"])[[\"Id\"]].count()\n",
    "df_test[df_test.Id.isin(range(2,69))]"
   ]
  },
  {
   "cell_type": "code",
   "execution_count": 30,
   "metadata": {},
   "outputs": [],
   "source": [
    "train_new.to_csv(\"clean_train.csv\", index=False)"
   ]
  },
  {
   "cell_type": "markdown",
   "metadata": {},
   "source": [
    "---"
   ]
  },
  {
   "cell_type": "markdown",
   "metadata": {},
   "source": [
    "# Task 1: Clustering of data"
   ]
  },
  {
   "cell_type": "markdown",
   "metadata": {},
   "source": [
    "## Analysis of daywise change in ConfirmedCases and Fatalities\n",
    "- To analyse the growth rate and death rate"
   ]
  },
  {
   "cell_type": "code",
   "execution_count": 31,
   "metadata": {},
   "outputs": [],
   "source": [
    "# Remove redundant data for countries if there is no confirm case at that period of time\n",
    "train_clust = train_new[train_new.ConfirmedCases > 0]"
   ]
  },
  {
   "cell_type": "markdown",
   "metadata": {},
   "source": [
    "## Analysis for top 10 Country_Region\n",
    "- To identify the growth and death rate\n",
    "- Calculate top 10 contryies having higher cases and deaths\n",
    "- check mean and median per Country_Region for top 10 countries from new cases and deaths"
   ]
  },
  {
   "cell_type": "code",
   "execution_count": 32,
   "metadata": {},
   "outputs": [],
   "source": [
    "df2 = train_clust[train_clust.Date == TRAIN_END].groupby([\"Country_Region\"]).sum()[[\"ConfirmedCases\", \"Fatalities\"]]\n",
    "df2[\"case_rank\"] = df2[\"ConfirmedCases\"].rank(method=\"dense\", ascending=False)\n",
    "df2[\"fat_rank\"] = df2[\"Fatalities\"].rank(method=\"dense\", ascending=False)"
   ]
  },
  {
   "cell_type": "code",
   "execution_count": 33,
   "metadata": {},
   "outputs": [
    {
     "data": {
      "text/html": [
       "<div>\n",
       "<style scoped>\n",
       "    .dataframe tbody tr th:only-of-type {\n",
       "        vertical-align: middle;\n",
       "    }\n",
       "\n",
       "    .dataframe tbody tr th {\n",
       "        vertical-align: top;\n",
       "    }\n",
       "\n",
       "    .dataframe thead th {\n",
       "        text-align: right;\n",
       "    }\n",
       "</style>\n",
       "<table border=\"1\" class=\"dataframe\">\n",
       "  <thead>\n",
       "    <tr style=\"text-align: right;\">\n",
       "      <th></th>\n",
       "      <th>ConfirmedCases</th>\n",
       "      <th>Fatalities</th>\n",
       "      <th>case_rank</th>\n",
       "      <th>fat_rank</th>\n",
       "    </tr>\n",
       "    <tr>\n",
       "      <th>Country_Region</th>\n",
       "      <th></th>\n",
       "      <th></th>\n",
       "      <th></th>\n",
       "      <th></th>\n",
       "    </tr>\n",
       "  </thead>\n",
       "  <tbody>\n",
       "    <tr>\n",
       "      <th>US</th>\n",
       "      <td>188018.0</td>\n",
       "      <td>3871.0</td>\n",
       "      <td>1.0</td>\n",
       "      <td>3.0</td>\n",
       "    </tr>\n",
       "    <tr>\n",
       "      <th>Italy</th>\n",
       "      <td>105792.0</td>\n",
       "      <td>12428.0</td>\n",
       "      <td>2.0</td>\n",
       "      <td>1.0</td>\n",
       "    </tr>\n",
       "    <tr>\n",
       "      <th>Spain</th>\n",
       "      <td>95923.0</td>\n",
       "      <td>8464.0</td>\n",
       "      <td>3.0</td>\n",
       "      <td>2.0</td>\n",
       "    </tr>\n",
       "    <tr>\n",
       "      <th>China</th>\n",
       "      <td>82280.0</td>\n",
       "      <td>3309.0</td>\n",
       "      <td>4.0</td>\n",
       "      <td>5.0</td>\n",
       "    </tr>\n",
       "    <tr>\n",
       "      <th>Germany</th>\n",
       "      <td>71808.0</td>\n",
       "      <td>775.0</td>\n",
       "      <td>5.0</td>\n",
       "      <td>9.0</td>\n",
       "    </tr>\n",
       "    <tr>\n",
       "      <th>France</th>\n",
       "      <td>52827.0</td>\n",
       "      <td>3532.0</td>\n",
       "      <td>6.0</td>\n",
       "      <td>4.0</td>\n",
       "    </tr>\n",
       "    <tr>\n",
       "      <th>Iran</th>\n",
       "      <td>44605.0</td>\n",
       "      <td>2898.0</td>\n",
       "      <td>7.0</td>\n",
       "      <td>6.0</td>\n",
       "    </tr>\n",
       "    <tr>\n",
       "      <th>United Kingdom</th>\n",
       "      <td>25471.0</td>\n",
       "      <td>1793.0</td>\n",
       "      <td>8.0</td>\n",
       "      <td>7.0</td>\n",
       "    </tr>\n",
       "    <tr>\n",
       "      <th>Switzerland</th>\n",
       "      <td>16605.0</td>\n",
       "      <td>433.0</td>\n",
       "      <td>9.0</td>\n",
       "      <td>11.0</td>\n",
       "    </tr>\n",
       "    <tr>\n",
       "      <th>Turkey</th>\n",
       "      <td>13531.0</td>\n",
       "      <td>214.0</td>\n",
       "      <td>10.0</td>\n",
       "      <td>12.0</td>\n",
       "    </tr>\n",
       "  </tbody>\n",
       "</table>\n",
       "</div>"
      ],
      "text/plain": [
       "                ConfirmedCases  Fatalities  case_rank  fat_rank\n",
       "Country_Region                                                 \n",
       "US                    188018.0      3871.0        1.0       3.0\n",
       "Italy                 105792.0     12428.0        2.0       1.0\n",
       "Spain                  95923.0      8464.0        3.0       2.0\n",
       "China                  82280.0      3309.0        4.0       5.0\n",
       "Germany                71808.0       775.0        5.0       9.0\n",
       "France                 52827.0      3532.0        6.0       4.0\n",
       "Iran                   44605.0      2898.0        7.0       6.0\n",
       "United Kingdom         25471.0      1793.0        8.0       7.0\n",
       "Switzerland            16605.0       433.0        9.0      11.0\n",
       "Turkey                 13531.0       214.0       10.0      12.0"
      ]
     },
     "execution_count": 33,
     "metadata": {},
     "output_type": "execute_result"
    }
   ],
   "source": [
    "df2.sort_values(by=[\"case_rank\", \"fat_rank\"]).head(10)"
   ]
  },
  {
   "cell_type": "code",
   "execution_count": 34,
   "metadata": {},
   "outputs": [
    {
     "data": {
      "text/html": [
       "<div>\n",
       "<style scoped>\n",
       "    .dataframe tbody tr th:only-of-type {\n",
       "        vertical-align: middle;\n",
       "    }\n",
       "\n",
       "    .dataframe tbody tr th {\n",
       "        vertical-align: top;\n",
       "    }\n",
       "\n",
       "    .dataframe thead th {\n",
       "        text-align: right;\n",
       "    }\n",
       "</style>\n",
       "<table border=\"1\" class=\"dataframe\">\n",
       "  <thead>\n",
       "    <tr style=\"text-align: right;\">\n",
       "      <th></th>\n",
       "      <th>ConfirmedCases</th>\n",
       "      <th>Fatalities</th>\n",
       "      <th>case_rank</th>\n",
       "      <th>fat_rank</th>\n",
       "    </tr>\n",
       "    <tr>\n",
       "      <th>Country_Region</th>\n",
       "      <th></th>\n",
       "      <th></th>\n",
       "      <th></th>\n",
       "      <th></th>\n",
       "    </tr>\n",
       "  </thead>\n",
       "  <tbody>\n",
       "    <tr>\n",
       "      <th>Italy</th>\n",
       "      <td>105792.0</td>\n",
       "      <td>12428.0</td>\n",
       "      <td>2.0</td>\n",
       "      <td>1.0</td>\n",
       "    </tr>\n",
       "    <tr>\n",
       "      <th>Spain</th>\n",
       "      <td>95923.0</td>\n",
       "      <td>8464.0</td>\n",
       "      <td>3.0</td>\n",
       "      <td>2.0</td>\n",
       "    </tr>\n",
       "    <tr>\n",
       "      <th>US</th>\n",
       "      <td>188018.0</td>\n",
       "      <td>3871.0</td>\n",
       "      <td>1.0</td>\n",
       "      <td>3.0</td>\n",
       "    </tr>\n",
       "    <tr>\n",
       "      <th>France</th>\n",
       "      <td>52827.0</td>\n",
       "      <td>3532.0</td>\n",
       "      <td>6.0</td>\n",
       "      <td>4.0</td>\n",
       "    </tr>\n",
       "    <tr>\n",
       "      <th>China</th>\n",
       "      <td>82280.0</td>\n",
       "      <td>3309.0</td>\n",
       "      <td>4.0</td>\n",
       "      <td>5.0</td>\n",
       "    </tr>\n",
       "    <tr>\n",
       "      <th>Iran</th>\n",
       "      <td>44605.0</td>\n",
       "      <td>2898.0</td>\n",
       "      <td>7.0</td>\n",
       "      <td>6.0</td>\n",
       "    </tr>\n",
       "    <tr>\n",
       "      <th>United Kingdom</th>\n",
       "      <td>25471.0</td>\n",
       "      <td>1793.0</td>\n",
       "      <td>8.0</td>\n",
       "      <td>7.0</td>\n",
       "    </tr>\n",
       "    <tr>\n",
       "      <th>Netherlands</th>\n",
       "      <td>12667.0</td>\n",
       "      <td>1040.0</td>\n",
       "      <td>12.0</td>\n",
       "      <td>8.0</td>\n",
       "    </tr>\n",
       "    <tr>\n",
       "      <th>Germany</th>\n",
       "      <td>71808.0</td>\n",
       "      <td>775.0</td>\n",
       "      <td>5.0</td>\n",
       "      <td>9.0</td>\n",
       "    </tr>\n",
       "    <tr>\n",
       "      <th>Belgium</th>\n",
       "      <td>12775.0</td>\n",
       "      <td>705.0</td>\n",
       "      <td>11.0</td>\n",
       "      <td>10.0</td>\n",
       "    </tr>\n",
       "  </tbody>\n",
       "</table>\n",
       "</div>"
      ],
      "text/plain": [
       "                ConfirmedCases  Fatalities  case_rank  fat_rank\n",
       "Country_Region                                                 \n",
       "Italy                 105792.0     12428.0        2.0       1.0\n",
       "Spain                  95923.0      8464.0        3.0       2.0\n",
       "US                    188018.0      3871.0        1.0       3.0\n",
       "France                 52827.0      3532.0        6.0       4.0\n",
       "China                  82280.0      3309.0        4.0       5.0\n",
       "Iran                   44605.0      2898.0        7.0       6.0\n",
       "United Kingdom         25471.0      1793.0        8.0       7.0\n",
       "Netherlands            12667.0      1040.0       12.0       8.0\n",
       "Germany                71808.0       775.0        5.0       9.0\n",
       "Belgium                12775.0       705.0       11.0      10.0"
      ]
     },
     "execution_count": 34,
     "metadata": {},
     "output_type": "execute_result"
    }
   ],
   "source": [
    "df2.sort_values(by=[\"fat_rank\", \"case_rank\"]).head(10)"
   ]
  },
  {
   "cell_type": "code",
   "execution_count": 35,
   "metadata": {},
   "outputs": [],
   "source": [
    "df3 = train_clust.set_index(\"Country_Region\")[\n",
    "    [\"Date\", \"ConfirmedCasesDelta\", \"FatalitiesDelta\", \"LogConfirmedDelta\", \"LogFatalitiesDelta\"]\n",
    "].join(\n",
    "    df2[df2.case_rank <= 10],\n",
    "    on=\"Country_Region\",\n",
    "    how=\"inner\"\n",
    ")"
   ]
  },
  {
   "cell_type": "code",
   "execution_count": 36,
   "metadata": {},
   "outputs": [
    {
     "data": {
      "text/html": [
       "<div>\n",
       "<style scoped>\n",
       "    .dataframe tbody tr th:only-of-type {\n",
       "        vertical-align: middle;\n",
       "    }\n",
       "\n",
       "    .dataframe tbody tr th {\n",
       "        vertical-align: top;\n",
       "    }\n",
       "\n",
       "    .dataframe thead tr th {\n",
       "        text-align: left;\n",
       "    }\n",
       "</style>\n",
       "<table border=\"1\" class=\"dataframe\">\n",
       "  <thead>\n",
       "    <tr>\n",
       "      <th></th>\n",
       "      <th colspan=\"2\" halign=\"left\">ConfirmedCasesDelta</th>\n",
       "      <th colspan=\"2\" halign=\"left\">FatalitiesDelta</th>\n",
       "      <th colspan=\"2\" halign=\"left\">LogConfirmedDelta</th>\n",
       "      <th colspan=\"2\" halign=\"left\">LogFatalitiesDelta</th>\n",
       "    </tr>\n",
       "    <tr>\n",
       "      <th></th>\n",
       "      <th>mean</th>\n",
       "      <th>median</th>\n",
       "      <th>mean</th>\n",
       "      <th>median</th>\n",
       "      <th>mean</th>\n",
       "      <th>median</th>\n",
       "      <th>mean</th>\n",
       "      <th>median</th>\n",
       "    </tr>\n",
       "  </thead>\n",
       "  <tbody>\n",
       "    <tr>\n",
       "      <th>count</th>\n",
       "      <td>10.000000</td>\n",
       "      <td>10.000000</td>\n",
       "      <td>10.000000</td>\n",
       "      <td>10.00000</td>\n",
       "      <td>10.000000</td>\n",
       "      <td>10.000000</td>\n",
       "      <td>10.000000</td>\n",
       "      <td>10.000000</td>\n",
       "    </tr>\n",
       "    <tr>\n",
       "      <th>mean</th>\n",
       "      <td>716.114362</td>\n",
       "      <td>178.800000</td>\n",
       "      <td>47.707169</td>\n",
       "      <td>6.95000</td>\n",
       "      <td>0.228215</td>\n",
       "      <td>0.146496</td>\n",
       "      <td>0.128570</td>\n",
       "      <td>0.061052</td>\n",
       "    </tr>\n",
       "    <tr>\n",
       "      <th>std</th>\n",
       "      <td>624.032968</td>\n",
       "      <td>308.307404</td>\n",
       "      <td>70.011364</td>\n",
       "      <td>18.22765</td>\n",
       "      <td>0.104902</td>\n",
       "      <td>0.109987</td>\n",
       "      <td>0.072228</td>\n",
       "      <td>0.081881</td>\n",
       "    </tr>\n",
       "    <tr>\n",
       "      <th>min</th>\n",
       "      <td>35.675251</td>\n",
       "      <td>1.000000</td>\n",
       "      <td>1.436927</td>\n",
       "      <td>0.00000</td>\n",
       "      <td>0.065506</td>\n",
       "      <td>0.000192</td>\n",
       "      <td>0.019521</td>\n",
       "      <td>0.000000</td>\n",
       "    </tr>\n",
       "    <tr>\n",
       "      <th>25%</th>\n",
       "      <td>174.668376</td>\n",
       "      <td>5.500000</td>\n",
       "      <td>10.295224</td>\n",
       "      <td>0.00000</td>\n",
       "      <td>0.178725</td>\n",
       "      <td>0.096785</td>\n",
       "      <td>0.068061</td>\n",
       "      <td>0.000000</td>\n",
       "    </tr>\n",
       "    <tr>\n",
       "      <th>50%</th>\n",
       "      <td>552.791667</td>\n",
       "      <td>22.750000</td>\n",
       "      <td>11.975427</td>\n",
       "      <td>0.00000</td>\n",
       "      <td>0.190424</td>\n",
       "      <td>0.119941</td>\n",
       "      <td>0.144870</td>\n",
       "      <td>0.000000</td>\n",
       "    </tr>\n",
       "    <tr>\n",
       "      <th>75%</th>\n",
       "      <td>1094.059799</td>\n",
       "      <td>227.625000</td>\n",
       "      <td>55.172481</td>\n",
       "      <td>4.00000</td>\n",
       "      <td>0.266172</td>\n",
       "      <td>0.190058</td>\n",
       "      <td>0.165160</td>\n",
       "      <td>0.126472</td>\n",
       "    </tr>\n",
       "    <tr>\n",
       "      <th>max</th>\n",
       "      <td>1734.295082</td>\n",
       "      <td>997.000000</td>\n",
       "      <td>203.737705</td>\n",
       "      <td>58.50000</td>\n",
       "      <td>0.452991</td>\n",
       "      <td>0.399697</td>\n",
       "      <td>0.255745</td>\n",
       "      <td>0.201866</td>\n",
       "    </tr>\n",
       "  </tbody>\n",
       "</table>\n",
       "</div>"
      ],
      "text/plain": [
       "      ConfirmedCasesDelta             FatalitiesDelta            \\\n",
       "                     mean      median            mean    median   \n",
       "count           10.000000   10.000000       10.000000  10.00000   \n",
       "mean           716.114362  178.800000       47.707169   6.95000   \n",
       "std            624.032968  308.307404       70.011364  18.22765   \n",
       "min             35.675251    1.000000        1.436927   0.00000   \n",
       "25%            174.668376    5.500000       10.295224   0.00000   \n",
       "50%            552.791667   22.750000       11.975427   0.00000   \n",
       "75%           1094.059799  227.625000       55.172481   4.00000   \n",
       "max           1734.295082  997.000000      203.737705  58.50000   \n",
       "\n",
       "      LogConfirmedDelta            LogFatalitiesDelta             \n",
       "                   mean     median               mean     median  \n",
       "count         10.000000  10.000000          10.000000  10.000000  \n",
       "mean           0.228215   0.146496           0.128570   0.061052  \n",
       "std            0.104902   0.109987           0.072228   0.081881  \n",
       "min            0.065506   0.000192           0.019521   0.000000  \n",
       "25%            0.178725   0.096785           0.068061   0.000000  \n",
       "50%            0.190424   0.119941           0.144870   0.000000  \n",
       "75%            0.266172   0.190058           0.165160   0.126472  \n",
       "max            0.452991   0.399697           0.255745   0.201866  "
      ]
     },
     "execution_count": 36,
     "metadata": {},
     "output_type": "execute_result"
    }
   ],
   "source": [
    "df3[[\"ConfirmedCasesDelta\", \"FatalitiesDelta\", \"LogConfirmedDelta\", \"LogFatalitiesDelta\"]].groupby(\"Country_Region\").agg(\n",
    "    [\"mean\", \"median\"]\n",
    ").describe()"
   ]
  },
  {
   "cell_type": "markdown",
   "metadata": {},
   "source": [
    "# Use Mean as growth and death rate from the above observation\n",
    "- Mean is more close to centre of min and max values as compared to median"
   ]
  },
  {
   "cell_type": "code",
   "execution_count": 37,
   "metadata": {},
   "outputs": [],
   "source": [
    "df4 = train_clust.groupby(\n",
    "    [\"Country_Region\"]).agg(\n",
    "    {\n",
    "        \"LogConfirmedDelta\": \"mean\",\n",
    "        \"ConfirmedCasesDelta\": \"mean\",\n",
    "        \"ConfirmedCases\": \"sum\"\n",
    "    }\n",
    ")\n",
    "df5 = train_clust[train_clust.Fatalities > 0].groupby(\n",
    "    [\"Country_Region\"]).agg(\n",
    "    {\n",
    "        \"LogFatalitiesDelta\": \"mean\",\n",
    "        \"FatalitiesDelta\": \"mean\",\n",
    "        \"Fatalities\": \"sum\"\n",
    "    }\n",
    ")\n",
    "data = df4.join(\n",
    "    df5, \"Country_Region\"\n",
    ").fillna(0)\n",
    "df6 = data.reset_index()"
   ]
  },
  {
   "cell_type": "code",
   "execution_count": 38,
   "metadata": {},
   "outputs": [
    {
     "data": {
      "text/html": [
       "<div>\n",
       "<style scoped>\n",
       "    .dataframe tbody tr th:only-of-type {\n",
       "        vertical-align: middle;\n",
       "    }\n",
       "\n",
       "    .dataframe tbody tr th {\n",
       "        vertical-align: top;\n",
       "    }\n",
       "\n",
       "    .dataframe thead th {\n",
       "        text-align: right;\n",
       "    }\n",
       "</style>\n",
       "<table border=\"1\" class=\"dataframe\">\n",
       "  <thead>\n",
       "    <tr style=\"text-align: right;\">\n",
       "      <th></th>\n",
       "      <th>LogConfirmedDelta</th>\n",
       "      <th>ConfirmedCases</th>\n",
       "      <th>ConfirmedCasesDelta</th>\n",
       "      <th>Fatalities</th>\n",
       "      <th>FatalitiesDelta</th>\n",
       "      <th>LogFatalitiesDelta</th>\n",
       "    </tr>\n",
       "    <tr>\n",
       "      <th>Country_Region</th>\n",
       "      <th></th>\n",
       "      <th></th>\n",
       "      <th></th>\n",
       "      <th></th>\n",
       "      <th></th>\n",
       "      <th></th>\n",
       "    </tr>\n",
       "  </thead>\n",
       "  <tbody>\n",
       "    <tr>\n",
       "      <th>Afghanistan</th>\n",
       "      <td>0.139589</td>\n",
       "      <td>1225.0</td>\n",
       "      <td>4.702703</td>\n",
       "      <td>29.0</td>\n",
       "      <td>0.400000</td>\n",
       "      <td>0.160944</td>\n",
       "    </tr>\n",
       "    <tr>\n",
       "      <th>Albania</th>\n",
       "      <td>0.239007</td>\n",
       "      <td>2232.0</td>\n",
       "      <td>10.565217</td>\n",
       "      <td>91.0</td>\n",
       "      <td>0.714286</td>\n",
       "      <td>0.132028</td>\n",
       "    </tr>\n",
       "    <tr>\n",
       "      <th>Algeria</th>\n",
       "      <td>0.182641</td>\n",
       "      <td>4828.0</td>\n",
       "      <td>19.888889</td>\n",
       "      <td>324.0</td>\n",
       "      <td>2.200000</td>\n",
       "      <td>0.190333</td>\n",
       "    </tr>\n",
       "    <tr>\n",
       "      <th>Andorra</th>\n",
       "      <td>0.197742</td>\n",
       "      <td>2787.0</td>\n",
       "      <td>12.533333</td>\n",
       "      <td>39.0</td>\n",
       "      <td>1.200000</td>\n",
       "      <td>0.256495</td>\n",
       "    </tr>\n",
       "    <tr>\n",
       "      <th>Angola</th>\n",
       "      <td>0.173287</td>\n",
       "      <td>48.0</td>\n",
       "      <td>0.583333</td>\n",
       "      <td>6.0</td>\n",
       "      <td>0.666667</td>\n",
       "      <td>0.366204</td>\n",
       "    </tr>\n",
       "    <tr>\n",
       "      <th>Antigua and Barbuda</th>\n",
       "      <td>0.109444</td>\n",
       "      <td>61.0</td>\n",
       "      <td>0.368421</td>\n",
       "      <td>0.0</td>\n",
       "      <td>0.000000</td>\n",
       "      <td>0.000000</td>\n",
       "    </tr>\n",
       "    <tr>\n",
       "      <th>Argentina</th>\n",
       "      <td>0.240045</td>\n",
       "      <td>6529.0</td>\n",
       "      <td>36.344828</td>\n",
       "      <td>158.0</td>\n",
       "      <td>1.125000</td>\n",
       "      <td>0.138842</td>\n",
       "    </tr>\n",
       "    <tr>\n",
       "      <th>Armenia</th>\n",
       "      <td>0.202533</td>\n",
       "      <td>4099.0</td>\n",
       "      <td>17.161290</td>\n",
       "      <td>12.0</td>\n",
       "      <td>0.500000</td>\n",
       "      <td>0.231049</td>\n",
       "    </tr>\n",
       "    <tr>\n",
       "      <th>Australia</th>\n",
       "      <td>0.121725</td>\n",
       "      <td>36155.0</td>\n",
       "      <td>12.524725</td>\n",
       "      <td>190.0</td>\n",
       "      <td>0.243243</td>\n",
       "      <td>0.099867</td>\n",
       "    </tr>\n",
       "    <tr>\n",
       "      <th>Austria</th>\n",
       "      <td>0.256341</td>\n",
       "      <td>84821.0</td>\n",
       "      <td>282.777778</td>\n",
       "      <td>626.0</td>\n",
       "      <td>6.400000</td>\n",
       "      <td>0.242991</td>\n",
       "    </tr>\n",
       "  </tbody>\n",
       "</table>\n",
       "</div>"
      ],
      "text/plain": [
       "                     LogConfirmedDelta  ConfirmedCases  ConfirmedCasesDelta  \\\n",
       "Country_Region                                                                \n",
       "Afghanistan                   0.139589          1225.0             4.702703   \n",
       "Albania                       0.239007          2232.0            10.565217   \n",
       "Algeria                       0.182641          4828.0            19.888889   \n",
       "Andorra                       0.197742          2787.0            12.533333   \n",
       "Angola                        0.173287            48.0             0.583333   \n",
       "Antigua and Barbuda           0.109444            61.0             0.368421   \n",
       "Argentina                     0.240045          6529.0            36.344828   \n",
       "Armenia                       0.202533          4099.0            17.161290   \n",
       "Australia                     0.121725         36155.0            12.524725   \n",
       "Austria                       0.256341         84821.0           282.777778   \n",
       "\n",
       "                     Fatalities  FatalitiesDelta  LogFatalitiesDelta  \n",
       "Country_Region                                                        \n",
       "Afghanistan                29.0         0.400000            0.160944  \n",
       "Albania                    91.0         0.714286            0.132028  \n",
       "Algeria                   324.0         2.200000            0.190333  \n",
       "Andorra                    39.0         1.200000            0.256495  \n",
       "Angola                      6.0         0.666667            0.366204  \n",
       "Antigua and Barbuda         0.0         0.000000            0.000000  \n",
       "Argentina                 158.0         1.125000            0.138842  \n",
       "Armenia                    12.0         0.500000            0.231049  \n",
       "Australia                 190.0         0.243243            0.099867  \n",
       "Austria                   626.0         6.400000            0.242991  "
      ]
     },
     "execution_count": 38,
     "metadata": {},
     "output_type": "execute_result"
    }
   ],
   "source": [
    "data.head(10)"
   ]
  },
  {
   "cell_type": "markdown",
   "metadata": {},
   "source": [
    "## Standarization of data and identification of number of clusters\n",
    "- elbow method\n",
    "- dendograms"
   ]
  },
  {
   "cell_type": "code",
   "execution_count": 39,
   "metadata": {},
   "outputs": [],
   "source": [
    "# Standarized all the four feature variables\n",
    "mms = StandardScaler()\n",
    "mms.fit(data)\n",
    "data_transformed = mms.transform(data)"
   ]
  },
  {
   "cell_type": "code",
   "execution_count": 40,
   "metadata": {},
   "outputs": [],
   "source": [
    "# Elbow method\n",
    "Sum_of_squared_distances = []\n",
    "K = range(1,25, 1)\n",
    "for k in K:\n",
    "    km = KMeans(n_clusters=k)\n",
    "    km = km.fit(data_transformed)\n",
    "    Sum_of_squared_distances.append(km.inertia_)"
   ]
  },
  {
   "cell_type": "code",
   "execution_count": 41,
   "metadata": {},
   "outputs": [
    {
     "data": {
      "image/png": "[encoded data removed]",
      "text/plain": [
       "<Figure size 432x288 with 1 Axes>"
      ]
     },
     "metadata": {
      "needs_background": "light"
     },
     "output_type": "display_data"
    }
   ],
   "source": [
    "# plot of elbow method\n",
    "plt.plot(K, Sum_of_squared_distances, 'bx-')\n",
    "plt.xlabel('k')\n",
    "plt.ylabel('Sum_of_squared_distances')\n",
    "plt.title('Elbow Method For Optimal k')\n",
    "plt.show()"
   ]
  },
  {
   "cell_type": "code",
   "execution_count": 42,
   "metadata": {},
   "outputs": [
    {
     "data": {
      "image/png": "[encoded data removed]",
      "text/plain": [
       "<Figure size 432x288 with 1 Axes>"
      ]
     },
     "metadata": {
      "needs_background": "light"
     },
     "output_type": "display_data"
    }
   ],
   "source": [
    "dendrogram = sch.dendrogram(sch.linkage(data_transformed, method='ward'))"
   ]
  },
  {
   "cell_type": "markdown",
   "metadata": {},
   "source": [
    "## Apply K-means and AgglomerativeClustering with 8 clusters as confirmed by both elbow method and dendograms"
   ]
  },
  {
   "cell_type": "code",
   "execution_count": 43,
   "metadata": {},
   "outputs": [],
   "source": [
    "# Number of clusters\n",
    "N = 8"
   ]
  },
  {
   "cell_type": "code",
   "execution_count": 44,
   "metadata": {},
   "outputs": [],
   "source": [
    "kmeans = KMeans(n_clusters=N).fit(data_transformed)\n",
    "centroids = kmeans.cluster_centers_\n",
    "# print(centroids)\n",
    "# print(kmeans.labels_)\n",
    "df6[\"kmeans_clusters\"] = kmeans.labels_"
   ]
  },
  {
   "cell_type": "code",
   "execution_count": 45,
   "metadata": {},
   "outputs": [],
   "source": [
    "model = AgglomerativeClustering(n_clusters=N, affinity='euclidean', linkage='ward')\n",
    "model.fit(data_transformed)\n",
    "df6[\"heir_clusters\"] = model.labels_"
   ]
  },
  {
   "cell_type": "code",
   "execution_count": 46,
   "metadata": {},
   "outputs": [
    {
     "data": {
      "text/plain": [
       "kmeans_clusters\n",
       "0    [Afghanistan, Antigua and Barbuda, Australia, ...\n",
       "1                                       [Italy, Spain]\n",
       "2                                              [China]\n",
       "3    [Albania, Argentina, Barbados, Bulgaria, Costa...\n",
       "4      [Belarus, Bolivia, El Salvador, Oman, Tanzania]\n",
       "5                                      [Germany, Iran]\n",
       "6    [Algeria, Andorra, Angola, Armenia, Austria, B...\n",
       "7            [Mali, Portugal, Switzerland, Turkey, US]\n",
       "Name: Country_Region, dtype: object"
      ]
     },
     "execution_count": 46,
     "metadata": {},
     "output_type": "execute_result"
    }
   ],
   "source": [
    "df7 = df6.reset_index()[[\"Country_Region\", \"kmeans_clusters\"]]\n",
    "df7.groupby(\"kmeans_clusters\")[\"Country_Region\"].apply(list)"
   ]
  },
  {
   "cell_type": "code",
   "execution_count": 47,
   "metadata": {},
   "outputs": [
    {
     "data": {
      "text/plain": [
       "heir_clusters\n",
       "0    [Algeria, Andorra, Angola, Armenia, Austria, B...\n",
       "1    [Afghanistan, Antigua and Barbuda, Australia, ...\n",
       "2                                      [Germany, Iran]\n",
       "3                                   [Mali, Turkey, US]\n",
       "4    [Albania, Argentina, Barbados, Bulgaria, Costa...\n",
       "5                                              [China]\n",
       "6      [Belarus, Bolivia, El Salvador, Oman, Tanzania]\n",
       "7                                       [Italy, Spain]\n",
       "Name: Country_Region, dtype: object"
      ]
     },
     "execution_count": 47,
     "metadata": {},
     "output_type": "execute_result"
    }
   ],
   "source": [
    "df7 = df6.reset_index()[[\"Country_Region\", \"heir_clusters\"]]\n",
    "df7.groupby(\"heir_clusters\")[\"Country_Region\"].apply(list)"
   ]
  },
  {
   "cell_type": "markdown",
   "metadata": {},
   "source": [
    "## reduce features to plot in 2-D using PCA"
   ]
  },
  {
   "cell_type": "code",
   "execution_count": 48,
   "metadata": {},
   "outputs": [],
   "source": [
    "reduced_data = PCA(n_components=2).fit_transform(data)\n",
    "results = pd.DataFrame(reduced_data,columns=['pca1','pca2'])"
   ]
  },
  {
   "cell_type": "code",
   "execution_count": 49,
   "metadata": {},
   "outputs": [
    {
     "data": {
      "image/png": "[encoded data removed]",
      "text/plain": [
       "<Figure size 720x576 with 1 Axes>"
      ]
     },
     "metadata": {
      "needs_background": "light"
     },
     "output_type": "display_data"
    }
   ],
   "source": [
    "fig_dims = (10, 8)\n",
    "fig, ax = plt.subplots(figsize=fig_dims)\n",
    "sns.scatterplot(x=\"pca1\", y=\"pca2\", hue=df6['kmeans_clusters'], data=results, legend=\"full\")\n",
    "plt.title('K-means Clustering with 2 dimensions')\n",
    "plt.show()"
   ]
  },
  {
   "cell_type": "code",
   "execution_count": 50,
   "metadata": {},
   "outputs": [
    {
     "data": {
      "image/png": "[encoded data removed]",
      "text/plain": [
       "<Figure size 720x576 with 1 Axes>"
      ]
     },
     "metadata": {
      "needs_background": "light"
     },
     "output_type": "display_data"
    }
   ],
   "source": [
    "fig_dims = (10, 8)\n",
    "fig, ax = plt.subplots(figsize=fig_dims)\n",
    "sns.scatterplot(x=\"pca1\", y=\"pca2\", hue=df6['heir_clusters'], data=results, legend=\"full\")\n",
    "plt.title('K-means Clustering with 2 dimensions')\n",
    "plt.show()"
   ]
  },
  {
   "cell_type": "markdown",
   "metadata": {},
   "source": [
    "## Save cluster result to csv file"
   ]
  },
  {
   "cell_type": "code",
   "execution_count": 51,
   "metadata": {},
   "outputs": [],
   "source": [
    "df6.to_csv(\"country_clusters.csv\", index=False)"
   ]
  },
  {
   "cell_type": "markdown",
   "metadata": {},
   "source": [
    "___"
   ]
  },
  {
   "cell_type": "markdown",
   "metadata": {},
   "source": [
    "# Task 2: Forcast future data"
   ]
  },
  {
   "cell_type": "code",
   "execution_count": 60,
   "metadata": {},
   "outputs": [],
   "source": [
    "train_clean = pd.read_csv(\"clean_train.csv\")"
   ]
  },
  {
   "cell_type": "code",
   "execution_count": 61,
   "metadata": {},
   "outputs": [
    {
     "data": {
      "text/plain": [
       "Id                         int64\n",
       "Province_State            object\n",
       "Country_Region            object\n",
       "Date                      object\n",
       "ConfirmedCases           float64\n",
       "Fatalities               float64\n",
       "Location                  object\n",
       "LogFatalities            float64\n",
       "LogConfirmed             float64\n",
       "LogConfirmedNextDay      float64\n",
       "ConfirmedCasesNextDay    float64\n",
       "DateNextDay               object\n",
       "LogFatalitiesNextDay     float64\n",
       "FatalitiesNextDay        float64\n",
       "LogConfirmedDelta        float64\n",
       "ConfirmedCasesDelta      float64\n",
       "LogFatalitiesDelta       float64\n",
       "FatalitiesDelta          float64\n",
       "DateDelta                  int64\n",
       "dtype: object"
      ]
     },
     "execution_count": 61,
     "metadata": {},
     "output_type": "execute_result"
    }
   ],
   "source": [
    "train_clean.dtypes"
   ]
  },
  {
   "cell_type": "code",
   "execution_count": 62,
   "metadata": {},
   "outputs": [],
   "source": [
    "daily_log_confirmed = train_clean.pivot('Location', 'Date', 'LogConfirmed').reset_index()\n",
    "daily_log_confirmed = daily_log_confirmed.sort_values(TRAIN_END, ascending=False)\n",
    "daily_log_confirmed.to_csv('daily_log_confirmed.csv', index=False)"
   ]
  },
  {
   "cell_type": "code",
   "execution_count": 66,
   "metadata": {},
   "outputs": [
    {
     "data": {
      "text/plain": [
       "'2020-03-31'"
      ]
     },
     "execution_count": 66,
     "metadata": {},
     "output_type": "execute_result"
    }
   ],
   "source": [
    "TRAIN_END"
   ]
  },
  {
   "cell_type": "code",
   "execution_count": 73,
   "metadata": {},
   "outputs": [
    {
     "name": "stderr",
     "output_type": "stream",
     "text": [
      "\r",
      "0it [00:00, ?it/s]"
     ]
    },
    {
     "name": "stdout",
     "output_type": "stream",
     "text": [
      "(0, '2020-04-01', '2020-04-01', '2020-03-31')\n",
      "(1, '2020-04-02', '2020-04-02', '2020-04-01')\n",
      "(2, '2020-04-03', '2020-04-03', '2020-04-02')\n",
      "(3, '2020-04-04', '2020-04-04', '2020-04-03')\n",
      "(4, '2020-04-05', '2020-04-05', '2020-04-04')\n",
      "(5, '2020-04-06', '2020-04-06', '2020-04-05')\n",
      "(6, '2020-04-07', '2020-04-07', '2020-04-06')\n",
      "(7, '2020-04-08', '2020-04-08', '2020-04-07')\n",
      "(8, '2020-04-09', '2020-04-09', '2020-04-08')\n",
      "(9, '2020-04-10', '2020-04-10', '2020-04-09')\n",
      "(10, '2020-04-11', '2020-04-11', '2020-04-10')\n",
      "(11, '2020-04-12', '2020-04-12', '2020-04-11')\n",
      "(12, '2020-04-13', '2020-04-13', '2020-04-12')\n",
      "(13, '2020-04-14', '2020-04-14', '2020-04-13')\n",
      "(14, '2020-04-15', '2020-04-15', '2020-04-14')\n",
      "(15, '2020-04-16', '2020-04-16', '2020-04-15')\n",
      "(16, '2020-04-17', '2020-04-17', '2020-04-16')\n",
      "(17, '2020-04-18', '2020-04-18', '2020-04-17')\n",
      "(18, '2020-04-19', '2020-04-19', '2020-04-18')\n",
      "(19, '2020-04-20', '2020-04-20', '2020-04-19')\n",
      "(20, '2020-04-21', '2020-04-21', '2020-04-20')\n",
      "(21, '2020-04-22', '2020-04-22', '2020-04-21')\n"
     ]
    },
    {
     "name": "stderr",
     "output_type": "stream",
     "text": [
      "\r",
      "22it [00:00, 213.59it/s]"
     ]
    },
    {
     "name": "stdout",
     "output_type": "stream",
     "text": [
      "(22, '2020-04-23', '2020-04-23', '2020-04-22')\n",
      "(23, '2020-04-24', '2020-04-24', '2020-04-23')\n",
      "(24, '2020-04-25', '2020-04-25', '2020-04-24')\n",
      "(25, '2020-04-26', '2020-04-26', '2020-04-25')\n",
      "(26, '2020-04-27', '2020-04-27', '2020-04-26')\n",
      "(27, '2020-04-28', '2020-04-28', '2020-04-27')\n",
      "(28, '2020-04-29', '2020-04-29', '2020-04-28')\n",
      "(29, '2020-04-30', '2020-04-30', '2020-04-29')\n",
      "(30, '2020-05-01', '2020-05-01', '2020-04-30')\n"
     ]
    },
    {
     "name": "stderr",
     "output_type": "stream",
     "text": [
      "31it [00:00, 186.75it/s]\n"
     ]
    }
   ],
   "source": [
    "DATEFORMAT = \"%Y-%m-%d\"\n",
    "def add_days(d, k):\n",
    "    return dt.datetime.strptime(d, DATEFORMAT) + dt.timedelta(days=k)\n",
    "\n",
    "for i, d in tqdm(enumerate(pd.date_range(add_days(TRAIN_END, 1), add_days(TEST_END, 1)))):\n",
    "    new_day = d.strftime(DATEFORMAT)\n",
    "    last_day = dt.datetime.strptime(new_day, DATEFORMAT) - dt.timedelta(days=1)\n",
    "    last_day = last_day.strftime(DATEFORMAT)\n",
    "    print(i, d.strftime(DATEFORMAT), new_day, last_day)\n",
    "#     for loc in confirmed_deltas.Location.values:\n",
    "#         confirmed_delta = confirmed_deltas.loc[confirmed_deltas.Location == loc, 'DELTA'].values[0]\n",
    "#         daily_log_confirmed.loc[daily_log_confirmed.Location == loc, new_day] = daily_log_confirmed.loc[daily_log_confirmed.Location == loc, last_day] + \\\n",
    "#             confirmed_delta * DECAY ** i"
   ]
  },
  {
   "cell_type": "code",
   "execution_count": null,
   "metadata": {},
   "outputs": [],
   "source": [
    "# pd.plotting.autocorrelation_plot(train_new)"
   ]
  },
  {
   "cell_type": "code",
   "execution_count": null,
   "metadata": {},
   "outputs": [],
   "source": [
    "# model = AgglomerativeClustering(n_clusters=4, affinity='euclidean', linkage='ward')\n",
    "# model.fit(data_transformed)\n",
    "# labels = model.labels_\n",
    "\n",
    "# plt.scatter(data_transformed[labels==0, 0], data_transformed[labels==0, 1], s=50, marker='o', color='red')\n",
    "# plt.scatter(data_transformed[labels==1, 0], data_transformed[labels==1, 1], s=50, marker='o', color='blue')\n",
    "# plt.scatter(data_transformed[labels==2, 0], data_transformed[labels==2, 1], s=50, marker='o', color='green')\n",
    "# plt.scatter(data_transformed[labels==3, 0], data_transformed[labels==3, 1], s=50, marker='o', color='purple')\n",
    "# plt.show()\n",
    "\n",
    "# plt.scatter(df6.Province_State,df6['clusters'], c='rainbow')\n",
    "# # plt.plot(data[[\"ConfirmedCases\", \"growth_rate\", \"Fatalities\",\"death_rate\"]])\n",
    "# plt.show()"
   ]
  }
 ],
 "metadata": {
  "kernelspec": {
   "display_name": "Python 2",
   "language": "python",
   "name": "python2"
  },
  "language_info": {
   "codemirror_mode": {
    "name": "ipython",
    "version": 2
   },
   "file_extension": ".py",
   "mimetype": "text/x-python",
   "name": "python",
   "nbconvert_exporter": "python",
   "pygments_lexer": "ipython2",
   "version": "2.7.15"
  }
 },
 "nbformat": 4,
 "nbformat_minor": 2
}
